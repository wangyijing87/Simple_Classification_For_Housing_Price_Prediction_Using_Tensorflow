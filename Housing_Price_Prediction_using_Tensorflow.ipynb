{
 "cells": [
  {
   "cell_type": "markdown",
   "metadata": {},
   "source": [
    "# Simple Classification Using Tensorflow to Predict House Price"
   ]
  },
  {
   "cell_type": "code",
   "execution_count": 1,
   "metadata": {},
   "outputs": [],
   "source": [
    "import pandas as pd\n",
    "import numpy as np\n",
    "import tensorflow as tf\n",
    "import matplotlib.pyplot as plt"
   ]
  },
  {
   "cell_type": "code",
   "execution_count": 47,
   "metadata": {},
   "outputs": [
    {
     "name": "stdout",
     "output_type": "stream",
     "text": [
      "   index    area  bathrooms     price    sq_price\n",
      "0      0  2104.0        3.0  399900.0  190.066540\n",
      "1      1  1600.0        3.0  329900.0  206.187500\n",
      "2      2  2400.0        3.0  369000.0  153.750000\n",
      "3      3  1416.0        2.0  232000.0  163.841808\n",
      "4      4  3000.0        4.0  539900.0  179.966667\n",
      "(47, 5)\n"
     ]
    }
   ],
   "source": [
    "df = pd.read_csv(\"data.csv\")\n",
    "print(df.head())\n",
    "print(df.shape)"
   ]
  },
  {
   "cell_type": "markdown",
   "metadata": {},
   "source": [
    "## Feature Selection:\n",
    "\"index\" is not useful, we definitely know that\n",
    "\n",
    "For \"price\" and \"sq_price\" we won't use them in this case"
   ]
  },
  {
   "cell_type": "code",
   "execution_count": 48,
   "metadata": {},
   "outputs": [],
   "source": [
    "df = df.drop(['index', 'price', 'sq_price'], axis=1)"
   ]
  },
  {
   "cell_type": "code",
   "execution_count": 49,
   "metadata": {},
   "outputs": [
    {
     "data": {
      "text/html": [
       "<div>\n",
       "<style scoped>\n",
       "    .dataframe tbody tr th:only-of-type {\n",
       "        vertical-align: middle;\n",
       "    }\n",
       "\n",
       "    .dataframe tbody tr th {\n",
       "        vertical-align: top;\n",
       "    }\n",
       "\n",
       "    .dataframe thead th {\n",
       "        text-align: right;\n",
       "    }\n",
       "</style>\n",
       "<table border=\"1\" class=\"dataframe\">\n",
       "  <thead>\n",
       "    <tr style=\"text-align: right;\">\n",
       "      <th></th>\n",
       "      <th>area</th>\n",
       "      <th>bathrooms</th>\n",
       "    </tr>\n",
       "  </thead>\n",
       "  <tbody>\n",
       "    <tr>\n",
       "      <th>0</th>\n",
       "      <td>2104.0</td>\n",
       "      <td>3.0</td>\n",
       "    </tr>\n",
       "    <tr>\n",
       "      <th>1</th>\n",
       "      <td>1600.0</td>\n",
       "      <td>3.0</td>\n",
       "    </tr>\n",
       "    <tr>\n",
       "      <th>2</th>\n",
       "      <td>2400.0</td>\n",
       "      <td>3.0</td>\n",
       "    </tr>\n",
       "    <tr>\n",
       "      <th>3</th>\n",
       "      <td>1416.0</td>\n",
       "      <td>2.0</td>\n",
       "    </tr>\n",
       "    <tr>\n",
       "      <th>4</th>\n",
       "      <td>3000.0</td>\n",
       "      <td>4.0</td>\n",
       "    </tr>\n",
       "    <tr>\n",
       "      <th>5</th>\n",
       "      <td>1985.0</td>\n",
       "      <td>4.0</td>\n",
       "    </tr>\n",
       "    <tr>\n",
       "      <th>6</th>\n",
       "      <td>1534.0</td>\n",
       "      <td>3.0</td>\n",
       "    </tr>\n",
       "    <tr>\n",
       "      <th>7</th>\n",
       "      <td>1427.0</td>\n",
       "      <td>3.0</td>\n",
       "    </tr>\n",
       "    <tr>\n",
       "      <th>8</th>\n",
       "      <td>1380.0</td>\n",
       "      <td>3.0</td>\n",
       "    </tr>\n",
       "    <tr>\n",
       "      <th>9</th>\n",
       "      <td>1494.0</td>\n",
       "      <td>3.0</td>\n",
       "    </tr>\n",
       "  </tbody>\n",
       "</table>\n",
       "</div>"
      ],
      "text/plain": [
       "     area  bathrooms\n",
       "0  2104.0        3.0\n",
       "1  1600.0        3.0\n",
       "2  2400.0        3.0\n",
       "3  1416.0        2.0\n",
       "4  3000.0        4.0\n",
       "5  1985.0        4.0\n",
       "6  1534.0        3.0\n",
       "7  1427.0        3.0\n",
       "8  1380.0        3.0\n",
       "9  1494.0        3.0"
      ]
     },
     "execution_count": 49,
     "metadata": {},
     "output_type": "execute_result"
    }
   ],
   "source": [
    "df = df[0:10]\n",
    "df"
   ]
  },
  {
   "cell_type": "markdown",
   "metadata": {},
   "source": [
    "## Add Label \n",
    "For target variable which indicates whether the customer will buy the house or not\n",
    "\n",
    "1 is good buy and 0 is bad buy"
   ]
  },
  {
   "cell_type": "code",
   "execution_count": 50,
   "metadata": {},
   "outputs": [
    {
     "data": {
      "text/html": [
       "<div>\n",
       "<style scoped>\n",
       "    .dataframe tbody tr th:only-of-type {\n",
       "        vertical-align: middle;\n",
       "    }\n",
       "\n",
       "    .dataframe tbody tr th {\n",
       "        vertical-align: top;\n",
       "    }\n",
       "\n",
       "    .dataframe thead th {\n",
       "        text-align: right;\n",
       "    }\n",
       "</style>\n",
       "<table border=\"1\" class=\"dataframe\">\n",
       "  <thead>\n",
       "    <tr style=\"text-align: right;\">\n",
       "      <th></th>\n",
       "      <th>area</th>\n",
       "      <th>bathrooms</th>\n",
       "      <th>target1</th>\n",
       "      <th>target2</th>\n",
       "    </tr>\n",
       "  </thead>\n",
       "  <tbody>\n",
       "    <tr>\n",
       "      <th>0</th>\n",
       "      <td>2104.0</td>\n",
       "      <td>3.0</td>\n",
       "      <td>1</td>\n",
       "      <td>0</td>\n",
       "    </tr>\n",
       "    <tr>\n",
       "      <th>1</th>\n",
       "      <td>1600.0</td>\n",
       "      <td>3.0</td>\n",
       "      <td>1</td>\n",
       "      <td>0</td>\n",
       "    </tr>\n",
       "    <tr>\n",
       "      <th>2</th>\n",
       "      <td>2400.0</td>\n",
       "      <td>3.0</td>\n",
       "      <td>1</td>\n",
       "      <td>0</td>\n",
       "    </tr>\n",
       "    <tr>\n",
       "      <th>3</th>\n",
       "      <td>1416.0</td>\n",
       "      <td>2.0</td>\n",
       "      <td>0</td>\n",
       "      <td>1</td>\n",
       "    </tr>\n",
       "    <tr>\n",
       "      <th>4</th>\n",
       "      <td>3000.0</td>\n",
       "      <td>4.0</td>\n",
       "      <td>0</td>\n",
       "      <td>1</td>\n",
       "    </tr>\n",
       "    <tr>\n",
       "      <th>5</th>\n",
       "      <td>1985.0</td>\n",
       "      <td>4.0</td>\n",
       "      <td>1</td>\n",
       "      <td>0</td>\n",
       "    </tr>\n",
       "    <tr>\n",
       "      <th>6</th>\n",
       "      <td>1534.0</td>\n",
       "      <td>3.0</td>\n",
       "      <td>0</td>\n",
       "      <td>1</td>\n",
       "    </tr>\n",
       "    <tr>\n",
       "      <th>7</th>\n",
       "      <td>1427.0</td>\n",
       "      <td>3.0</td>\n",
       "      <td>1</td>\n",
       "      <td>0</td>\n",
       "    </tr>\n",
       "    <tr>\n",
       "      <th>8</th>\n",
       "      <td>1380.0</td>\n",
       "      <td>3.0</td>\n",
       "      <td>1</td>\n",
       "      <td>0</td>\n",
       "    </tr>\n",
       "    <tr>\n",
       "      <th>9</th>\n",
       "      <td>1494.0</td>\n",
       "      <td>3.0</td>\n",
       "      <td>1</td>\n",
       "      <td>0</td>\n",
       "    </tr>\n",
       "  </tbody>\n",
       "</table>\n",
       "</div>"
      ],
      "text/plain": [
       "     area  bathrooms  target1  target2\n",
       "0  2104.0        3.0        1        0\n",
       "1  1600.0        3.0        1        0\n",
       "2  2400.0        3.0        1        0\n",
       "3  1416.0        2.0        0        1\n",
       "4  3000.0        4.0        0        1\n",
       "5  1985.0        4.0        1        0\n",
       "6  1534.0        3.0        0        1\n",
       "7  1427.0        3.0        1        0\n",
       "8  1380.0        3.0        1        0\n",
       "9  1494.0        3.0        1        0"
      ]
     },
     "execution_count": 50,
     "metadata": {},
     "output_type": "execute_result"
    }
   ],
   "source": [
    "df['target1'] = [1,1,1,0,0,1,0,1,1,1]\n",
    "#target2 is a negation of target1\n",
    "df['target2'] = [1 if x == 0 else 0 for x in df['target1']]\n",
    "df"
   ]
  },
  {
   "cell_type": "markdown",
   "metadata": {},
   "source": [
    "## Prepare Data for Tensorflow\n",
    "First, Convert feature into tensor"
   ]
  },
  {
   "cell_type": "code",
   "execution_count": 51,
   "metadata": {},
   "outputs": [
    {
     "name": "stderr",
     "output_type": "stream",
     "text": [
      "/anaconda3/lib/python3.6/site-packages/ipykernel_launcher.py:1: FutureWarning: Method .as_matrix will be removed in a future version. Use .values instead.\n",
      "  \"\"\"Entry point for launching an IPython kernel.\n",
      "/anaconda3/lib/python3.6/site-packages/ipykernel_launcher.py:2: FutureWarning: Method .as_matrix will be removed in a future version. Use .values instead.\n",
      "  \n"
     ]
    }
   ],
   "source": [
    "inputX = df.loc[:, ['area', 'bathrooms']].as_matrix()\n",
    "inputY = df.loc[:, ['target1', 'target2']].as_matrix()"
   ]
  },
  {
   "cell_type": "markdown",
   "metadata": {},
   "source": [
    "## Set Hyperparameters"
   ]
  },
  {
   "cell_type": "code",
   "execution_count": 52,
   "metadata": {},
   "outputs": [],
   "source": [
    "learning_rate = 0.000001\n",
    "training_epochs = 2000\n",
    "display_step = 50 \n",
    "n_samples = inputY.size"
   ]
  },
  {
   "cell_type": "markdown",
   "metadata": {},
   "source": [
    "## Create Computation Graph/Neural Network"
   ]
  },
  {
   "cell_type": "code",
   "execution_count": 54,
   "metadata": {},
   "outputs": [],
   "source": [
    "#none means any number of rows\n",
    "x = tf.placeholder(tf.float32, [None, 2])\n",
    "#create Weight\n",
    "W = tf.Variable(tf.zeros([2,2]))\n",
    "#add biases\n",
    "b = tf.Variable(tf.zeros([2]))\n",
    "\n",
    "#multiply weights by inputs, and add bias b \n",
    "y_values = tf.add(tf.matmul(x, W), b)\n",
    "#add softmax activation function\n",
    "y_pred = tf.nn.softmax(y_values)\n",
    "#feed in a matrix of labels\n",
    "y = tf.placeholder(tf.float32, [None, 2])"
   ]
  },
  {
   "cell_type": "markdown",
   "metadata": {},
   "source": [
    "## Perform Training \n",
    "Get cost function,which is the mean square error\n",
    "\n",
    "Using Gradient Descent to optimize the cost"
   ]
  },
  {
   "cell_type": "code",
   "execution_count": 55,
   "metadata": {},
   "outputs": [],
   "source": [
    "cost = tf.reduce_sum(tf.pow(y - y_pred, 2))/(2*n_samples)\n",
    "optimizer = tf.train.GradientDescentOptimizer(learning_rate).minimize(cost)"
   ]
  },
  {
   "cell_type": "code",
   "execution_count": 58,
   "metadata": {},
   "outputs": [
    {
     "name": "stdout",
     "output_type": "stream",
     "text": [
      "WARNING:tensorflow:From /anaconda3/lib/python3.6/site-packages/tensorflow/python/util/tf_should_use.py:189: initialize_all_variables (from tensorflow.python.ops.variables) is deprecated and will be removed after 2017-03-02.\n",
      "Instructions for updating:\n",
      "Use `tf.global_variables_initializer` instead.\n"
     ]
    }
   ],
   "source": [
    "#initialize variables and tensorflow session\n",
    "init = tf.initialize_all_variables()\n",
    "sess = tf.Session()\n",
    "sess.run(init)"
   ]
  },
  {
   "cell_type": "code",
   "execution_count": 60,
   "metadata": {},
   "outputs": [
    {
     "name": "stdout",
     "output_type": "stream",
     "text": [
      "Training step: 0000 cost= 0.109537281\n",
      "Training step: 0050 cost= 0.109537221\n",
      "Training step: 0100 cost= 0.109537147\n",
      "Training step: 0150 cost= 0.109537080\n",
      "Training step: 0200 cost= 0.109537005\n",
      "Training step: 0250 cost= 0.109536938\n",
      "Training step: 0300 cost= 0.109536879\n",
      "Training step: 0350 cost= 0.109536804\n",
      "Training step: 0400 cost= 0.109536745\n",
      "Training step: 0450 cost= 0.109536670\n",
      "Training step: 0500 cost= 0.109536611\n",
      "Training step: 0550 cost= 0.109536529\n",
      "Training step: 0600 cost= 0.109536462\n",
      "Training step: 0650 cost= 0.109536402\n",
      "Training step: 0700 cost= 0.109536327\n",
      "Training step: 0750 cost= 0.109536268\n",
      "Training step: 0800 cost= 0.109536193\n",
      "Training step: 0850 cost= 0.109536126\n",
      "Training step: 0900 cost= 0.109536052\n",
      "Training step: 0950 cost= 0.109535985\n",
      "Training step: 1000 cost= 0.109535925\n",
      "Training step: 1050 cost= 0.109535851\n",
      "Training step: 1100 cost= 0.109535776\n",
      "Training step: 1150 cost= 0.109535716\n",
      "Training step: 1200 cost= 0.109535649\n",
      "Training step: 1250 cost= 0.109535575\n",
      "Training step: 1300 cost= 0.109535515\n",
      "Training step: 1350 cost= 0.109535433\n",
      "Training step: 1400 cost= 0.109535359\n",
      "Training step: 1450 cost= 0.109535299\n",
      "Training step: 1500 cost= 0.109535232\n",
      "Training step: 1550 cost= 0.109535173\n",
      "Training step: 1600 cost= 0.109535098\n",
      "Training step: 1650 cost= 0.109535031\n",
      "Training step: 1700 cost= 0.109534971\n",
      "Training step: 1750 cost= 0.109534882\n",
      "Training step: 1800 cost= 0.109534815\n",
      "Training step: 1850 cost= 0.109534763\n",
      "Training step: 1900 cost= 0.109534696\n",
      "Training step: 1950 cost= 0.109534621\n",
      "Optimization Finished!\n",
      "Training cost= 0.109534554 \n",
      "W= [[ 0.00021405 -0.00021405]\n",
      " [ 0.00010217 -0.00010217]] \n",
      "b= [ 2.3706723e-05 -2.3706734e-05] \n",
      "\n"
     ]
    }
   ],
   "source": [
    "#training loop\n",
    "for i in range(training_epochs):\n",
    "    sess.run(optimizer, feed_dict={x: inputX, y: inputY})\n",
    "    \n",
    "    if (i) % display_step == 0:\n",
    "        cc = sess.run(cost, feed_dict={x: inputX, y: inputY})\n",
    "        print(\"Training step:\", '%04d' % (i), \"cost=\", \"{:.9f}\".format(cc) )\n",
    "\n",
    "print(\"Optimization Finished!\")\n",
    "training_cost = sess.run(cost, feed_dict={x: inputX, y: inputY})\n",
    "print( \"Training cost=\", training_cost,'\\n' \"W=\", sess.run(W),'\\n' \"b=\", sess.run(b), '\\n' )\n"
   ]
  },
  {
   "cell_type": "code",
   "execution_count": 62,
   "metadata": {},
   "outputs": [
    {
     "data": {
      "text/plain": [
       "array([[0.7112309 , 0.2887692 ],\n",
       "       [0.66498965, 0.33501032],\n",
       "       [0.73654455, 0.2634555 ],\n",
       "       [0.64717317, 0.3528268 ],\n",
       "       [0.7833244 , 0.2166756 ],\n",
       "       [0.7006994 , 0.29930058],\n",
       "       [0.6586662 , 0.3413338 ],\n",
       "       [0.6482943 , 0.3517057 ],\n",
       "       [0.6436931 , 0.3563069 ],\n",
       "       [0.65480596, 0.345194  ]], dtype=float32)"
      ]
     },
     "execution_count": 62,
     "metadata": {},
     "output_type": "execute_result"
    }
   ],
   "source": [
    "sess.run(y_pred, feed_dict={x: inputX})"
   ]
  },
  {
   "cell_type": "code",
   "execution_count": null,
   "metadata": {},
   "outputs": [],
   "source": []
  }
 ],
 "metadata": {
  "kernelspec": {
   "display_name": "Python 3",
   "language": "python",
   "name": "python3"
  },
  "language_info": {
   "codemirror_mode": {
    "name": "ipython",
    "version": 3
   },
   "file_extension": ".py",
   "mimetype": "text/x-python",
   "name": "python",
   "nbconvert_exporter": "python",
   "pygments_lexer": "ipython3",
   "version": "3.6.6"
  }
 },
 "nbformat": 4,
 "nbformat_minor": 2
}
